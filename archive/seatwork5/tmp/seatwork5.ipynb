{
 "cells": [
  {
   "cell_type": "markdown",
   "metadata": {},
   "source": [
    "# CLEANING DATA"
   ]
  },
  {
   "cell_type": "code",
   "execution_count": 2,
   "metadata": {},
   "outputs": [],
   "source": [
    "import pandas as pd"
   ]
  },
  {
   "cell_type": "markdown",
   "metadata": {},
   "source": [
    "Load the dataset"
   ]
  },
  {
   "cell_type": "code",
   "execution_count": 3,
   "metadata": {},
   "outputs": [],
   "source": [
    "df = pd.read_csv('data.csv')"
   ]
  },
  {
   "cell_type": "markdown",
   "metadata": {},
   "source": [
    "Summary Statistics"
   ]
  },
  {
   "cell_type": "code",
   "execution_count": 4,
   "metadata": {},
   "outputs": [
    {
     "data": {
      "text/html": [
       "<div>\n",
       "<style scoped>\n",
       "    .dataframe tbody tr th:only-of-type {\n",
       "        vertical-align: middle;\n",
       "    }\n",
       "\n",
       "    .dataframe tbody tr th {\n",
       "        vertical-align: top;\n",
       "    }\n",
       "\n",
       "    .dataframe thead th {\n",
       "        text-align: right;\n",
       "    }\n",
       "</style>\n",
       "<table border=\"1\" class=\"dataframe\">\n",
       "  <thead>\n",
       "    <tr style=\"text-align: right;\">\n",
       "      <th></th>\n",
       "      <th>Duration,Date,Pulse,Maxpulse,Calories</th>\n",
       "    </tr>\n",
       "  </thead>\n",
       "  <tbody>\n",
       "    <tr>\n",
       "      <th>count</th>\n",
       "      <td>32</td>\n",
       "    </tr>\n",
       "    <tr>\n",
       "      <th>unique</th>\n",
       "      <td>31</td>\n",
       "    </tr>\n",
       "    <tr>\n",
       "      <th>top</th>\n",
       "      <td>60,'2020/12/12',100,120,250.7</td>\n",
       "    </tr>\n",
       "    <tr>\n",
       "      <th>freq</th>\n",
       "      <td>2</td>\n",
       "    </tr>\n",
       "  </tbody>\n",
       "</table>\n",
       "</div>"
      ],
      "text/plain": [
       "       Duration,Date,Pulse,Maxpulse,Calories\n",
       "count                                     32\n",
       "unique                                    31\n",
       "top            60,'2020/12/12',100,120,250.7\n",
       "freq                                       2"
      ]
     },
     "execution_count": 4,
     "metadata": {},
     "output_type": "execute_result"
    }
   ],
   "source": [
    "df.describe()"
   ]
  },
  {
   "cell_type": "markdown",
   "metadata": {},
   "source": [
    "Print the entire dataset"
   ]
  },
  {
   "cell_type": "code",
   "execution_count": 5,
   "metadata": {},
   "outputs": [
    {
     "data": {
      "text/html": [
       "<div>\n",
       "<style scoped>\n",
       "    .dataframe tbody tr th:only-of-type {\n",
       "        vertical-align: middle;\n",
       "    }\n",
       "\n",
       "    .dataframe tbody tr th {\n",
       "        vertical-align: top;\n",
       "    }\n",
       "\n",
       "    .dataframe thead th {\n",
       "        text-align: right;\n",
       "    }\n",
       "</style>\n",
       "<table border=\"1\" class=\"dataframe\">\n",
       "  <thead>\n",
       "    <tr style=\"text-align: right;\">\n",
       "      <th></th>\n",
       "      <th>Duration,Date,Pulse,Maxpulse,Calories</th>\n",
       "    </tr>\n",
       "  </thead>\n",
       "  <tbody>\n",
       "    <tr>\n",
       "      <th>0</th>\n",
       "      <td>60,'2020/12/01',110,130,409.1</td>\n",
       "    </tr>\n",
       "    <tr>\n",
       "      <th>1</th>\n",
       "      <td>60,'2020/12/02',117,145,479.0</td>\n",
       "    </tr>\n",
       "    <tr>\n",
       "      <th>2</th>\n",
       "      <td>60,'2020/12/03',103,135,340.0</td>\n",
       "    </tr>\n",
       "    <tr>\n",
       "      <th>3</th>\n",
       "      <td>45,'2020/12/04',109,175,282.4</td>\n",
       "    </tr>\n",
       "    <tr>\n",
       "      <th>4</th>\n",
       "      <td>45,'2020/12/05',117,148,406.0</td>\n",
       "    </tr>\n",
       "    <tr>\n",
       "      <th>5</th>\n",
       "      <td>60,'2020/12/06',102,127,300.0</td>\n",
       "    </tr>\n",
       "    <tr>\n",
       "      <th>6</th>\n",
       "      <td>60,'2020/12/07',110,136,374.0</td>\n",
       "    </tr>\n",
       "    <tr>\n",
       "      <th>7</th>\n",
       "      <td>450,'2020/12/08',104,134,253.3</td>\n",
       "    </tr>\n",
       "    <tr>\n",
       "      <th>8</th>\n",
       "      <td>30,'2020/12/09',109,133,195.1</td>\n",
       "    </tr>\n",
       "    <tr>\n",
       "      <th>9</th>\n",
       "      <td>60,'2020/12/10',98,124,269.0</td>\n",
       "    </tr>\n",
       "    <tr>\n",
       "      <th>10</th>\n",
       "      <td>60,'2020/12/11',103,147,329.3</td>\n",
       "    </tr>\n",
       "    <tr>\n",
       "      <th>11</th>\n",
       "      <td>60,'2020/12/12',100,120,250.7</td>\n",
       "    </tr>\n",
       "    <tr>\n",
       "      <th>12</th>\n",
       "      <td>60,'2020/12/12',100,120,250.7</td>\n",
       "    </tr>\n",
       "    <tr>\n",
       "      <th>13</th>\n",
       "      <td>60,'2020/12/13',106,128,345.3</td>\n",
       "    </tr>\n",
       "    <tr>\n",
       "      <th>14</th>\n",
       "      <td>60,'2020/12/14',104,132,379.3</td>\n",
       "    </tr>\n",
       "    <tr>\n",
       "      <th>15</th>\n",
       "      <td>60,'2020/12/15',98,123,275.0</td>\n",
       "    </tr>\n",
       "    <tr>\n",
       "      <th>16</th>\n",
       "      <td>60,'2020/12/16',98,120,215.2</td>\n",
       "    </tr>\n",
       "    <tr>\n",
       "      <th>17</th>\n",
       "      <td>60,'2020/12/17',100,120,300.0</td>\n",
       "    </tr>\n",
       "    <tr>\n",
       "      <th>18</th>\n",
       "      <td>45,'2020/12/18',90,112,</td>\n",
       "    </tr>\n",
       "    <tr>\n",
       "      <th>19</th>\n",
       "      <td>60,'2020/12/19',103,123,323.0</td>\n",
       "    </tr>\n",
       "    <tr>\n",
       "      <th>20</th>\n",
       "      <td>45,'2020/12/20',97,125,243.0</td>\n",
       "    </tr>\n",
       "    <tr>\n",
       "      <th>21</th>\n",
       "      <td>60,'2020/12/21',108,131,364.2</td>\n",
       "    </tr>\n",
       "    <tr>\n",
       "      <th>22</th>\n",
       "      <td>45,,100,119,282.0</td>\n",
       "    </tr>\n",
       "    <tr>\n",
       "      <th>23</th>\n",
       "      <td>60,'2020/12/23',130,101,300.0</td>\n",
       "    </tr>\n",
       "    <tr>\n",
       "      <th>24</th>\n",
       "      <td>45,'2020/12/24',105,132,246.0</td>\n",
       "    </tr>\n",
       "    <tr>\n",
       "      <th>25</th>\n",
       "      <td>60,'2020/12/25',102,126,334.5</td>\n",
       "    </tr>\n",
       "    <tr>\n",
       "      <th>26</th>\n",
       "      <td>6,020,201,226,100,120,000.00</td>\n",
       "    </tr>\n",
       "    <tr>\n",
       "      <th>27</th>\n",
       "      <td>60,'2020/12/27',92,118,241.0</td>\n",
       "    </tr>\n",
       "    <tr>\n",
       "      <th>28</th>\n",
       "      <td>60,'2020/12/28',103,132,</td>\n",
       "    </tr>\n",
       "    <tr>\n",
       "      <th>29</th>\n",
       "      <td>60,'2020/12/29',100,132,280.0</td>\n",
       "    </tr>\n",
       "    <tr>\n",
       "      <th>30</th>\n",
       "      <td>60,'2020/12/30',102,129,380.3</td>\n",
       "    </tr>\n",
       "    <tr>\n",
       "      <th>31</th>\n",
       "      <td>60,'2020/12/31',92,115,243.0</td>\n",
       "    </tr>\n",
       "  </tbody>\n",
       "</table>\n",
       "</div>"
      ],
      "text/plain": [
       "   Duration,Date,Pulse,Maxpulse,Calories\n",
       "0          60,'2020/12/01',110,130,409.1\n",
       "1          60,'2020/12/02',117,145,479.0\n",
       "2          60,'2020/12/03',103,135,340.0\n",
       "3          45,'2020/12/04',109,175,282.4\n",
       "4          45,'2020/12/05',117,148,406.0\n",
       "5          60,'2020/12/06',102,127,300.0\n",
       "6          60,'2020/12/07',110,136,374.0\n",
       "7         450,'2020/12/08',104,134,253.3\n",
       "8          30,'2020/12/09',109,133,195.1\n",
       "9           60,'2020/12/10',98,124,269.0\n",
       "10         60,'2020/12/11',103,147,329.3\n",
       "11         60,'2020/12/12',100,120,250.7\n",
       "12         60,'2020/12/12',100,120,250.7\n",
       "13         60,'2020/12/13',106,128,345.3\n",
       "14         60,'2020/12/14',104,132,379.3\n",
       "15          60,'2020/12/15',98,123,275.0\n",
       "16          60,'2020/12/16',98,120,215.2\n",
       "17         60,'2020/12/17',100,120,300.0\n",
       "18               45,'2020/12/18',90,112,\n",
       "19         60,'2020/12/19',103,123,323.0\n",
       "20          45,'2020/12/20',97,125,243.0\n",
       "21         60,'2020/12/21',108,131,364.2\n",
       "22                     45,,100,119,282.0\n",
       "23         60,'2020/12/23',130,101,300.0\n",
       "24         45,'2020/12/24',105,132,246.0\n",
       "25         60,'2020/12/25',102,126,334.5\n",
       "26          6,020,201,226,100,120,000.00\n",
       "27          60,'2020/12/27',92,118,241.0\n",
       "28              60,'2020/12/28',103,132,\n",
       "29         60,'2020/12/29',100,132,280.0\n",
       "30         60,'2020/12/30',102,129,380.3\n",
       "31          60,'2020/12/31',92,115,243.0"
      ]
     },
     "execution_count": 5,
     "metadata": {},
     "output_type": "execute_result"
    }
   ],
   "source": [
    "df"
   ]
  },
  {
   "cell_type": "markdown",
   "metadata": {},
   "source": [
    "## 1. Cleaning Empty Cells\n",
    "Dropping all the rows that have NaN (Not available) values <br>\n",
    "A. To return a new Data Frame with no empty cells"
   ]
  },
  {
   "cell_type": "code",
   "execution_count": 6,
   "metadata": {},
   "outputs": [
    {
     "name": "stdout",
     "output_type": "stream",
     "text": [
      "   Duration,Date,Pulse,Maxpulse,Calories\n",
      "0          60,'2020/12/01',110,130,409.1\n",
      "1          60,'2020/12/02',117,145,479.0\n",
      "2          60,'2020/12/03',103,135,340.0\n",
      "3          45,'2020/12/04',109,175,282.4\n",
      "4          45,'2020/12/05',117,148,406.0\n",
      "5          60,'2020/12/06',102,127,300.0\n",
      "6          60,'2020/12/07',110,136,374.0\n",
      "7         450,'2020/12/08',104,134,253.3\n",
      "8          30,'2020/12/09',109,133,195.1\n",
      "9           60,'2020/12/10',98,124,269.0\n",
      "10         60,'2020/12/11',103,147,329.3\n",
      "11         60,'2020/12/12',100,120,250.7\n",
      "12         60,'2020/12/12',100,120,250.7\n",
      "13         60,'2020/12/13',106,128,345.3\n",
      "14         60,'2020/12/14',104,132,379.3\n",
      "15          60,'2020/12/15',98,123,275.0\n",
      "16          60,'2020/12/16',98,120,215.2\n",
      "17         60,'2020/12/17',100,120,300.0\n",
      "18               45,'2020/12/18',90,112,\n",
      "19         60,'2020/12/19',103,123,323.0\n",
      "20          45,'2020/12/20',97,125,243.0\n",
      "21         60,'2020/12/21',108,131,364.2\n",
      "22                     45,,100,119,282.0\n",
      "23         60,'2020/12/23',130,101,300.0\n",
      "24         45,'2020/12/24',105,132,246.0\n",
      "25         60,'2020/12/25',102,126,334.5\n",
      "26          6,020,201,226,100,120,000.00\n",
      "27          60,'2020/12/27',92,118,241.0\n",
      "28              60,'2020/12/28',103,132,\n",
      "29         60,'2020/12/29',100,132,280.0\n",
      "30         60,'2020/12/30',102,129,380.3\n",
      "31          60,'2020/12/31',92,115,243.0\n"
     ]
    }
   ],
   "source": [
    "new_df = df.dropna()\n",
    "print(new_df.to_string())"
   ]
  },
  {
   "cell_type": "markdown",
   "metadata": {},
   "source": [
    "Question: What happened to the old data set? Explain your answer and take a screenshot of the new data set.\n",
    "\n",
    "The old data set is still there with its original features and data points."
   ]
  },
  {
   "cell_type": "markdown",
   "metadata": {},
   "source": [
    "B. To change the original DataFrame, use the inplace = True argument to remove all rows with NULL values."
   ]
  },
  {
   "cell_type": "code",
   "execution_count": 7,
   "metadata": {},
   "outputs": [
    {
     "name": "stdout",
     "output_type": "stream",
     "text": [
      "   Duration,Date,Pulse,Maxpulse,Calories\n",
      "0          60,'2020/12/01',110,130,409.1\n",
      "1          60,'2020/12/02',117,145,479.0\n",
      "2          60,'2020/12/03',103,135,340.0\n",
      "3          45,'2020/12/04',109,175,282.4\n",
      "4          45,'2020/12/05',117,148,406.0\n",
      "5          60,'2020/12/06',102,127,300.0\n",
      "6          60,'2020/12/07',110,136,374.0\n",
      "7         450,'2020/12/08',104,134,253.3\n",
      "8          30,'2020/12/09',109,133,195.1\n",
      "9           60,'2020/12/10',98,124,269.0\n",
      "10         60,'2020/12/11',103,147,329.3\n",
      "11         60,'2020/12/12',100,120,250.7\n",
      "12         60,'2020/12/12',100,120,250.7\n",
      "13         60,'2020/12/13',106,128,345.3\n",
      "14         60,'2020/12/14',104,132,379.3\n",
      "15          60,'2020/12/15',98,123,275.0\n",
      "16          60,'2020/12/16',98,120,215.2\n",
      "17         60,'2020/12/17',100,120,300.0\n",
      "18               45,'2020/12/18',90,112,\n",
      "19         60,'2020/12/19',103,123,323.0\n",
      "20          45,'2020/12/20',97,125,243.0\n",
      "21         60,'2020/12/21',108,131,364.2\n",
      "22                     45,,100,119,282.0\n",
      "23         60,'2020/12/23',130,101,300.0\n",
      "24         45,'2020/12/24',105,132,246.0\n",
      "25         60,'2020/12/25',102,126,334.5\n",
      "26          6,020,201,226,100,120,000.00\n",
      "27          60,'2020/12/27',92,118,241.0\n",
      "28              60,'2020/12/28',103,132,\n",
      "29         60,'2020/12/29',100,132,280.0\n",
      "30         60,'2020/12/30',102,129,380.3\n",
      "31          60,'2020/12/31',92,115,243.0\n"
     ]
    }
   ],
   "source": [
    "df.dropna(inplace=True)\n",
    "print(df.to_string())"
   ]
  },
  {
   "cell_type": "code",
   "execution_count": null,
   "metadata": {},
   "outputs": [],
   "source": [
    "# Replace NULL values in the \"Calories\" columns with the number 130\n",
    "df['Calories'].fillna(130, inplace=True)"
   ]
  }
 ],
 "metadata": {
  "kernelspec": {
   "display_name": "Python 3.10.7 64-bit",
   "language": "python",
   "name": "python3"
  },
  "language_info": {
   "codemirror_mode": {
    "name": "ipython",
    "version": 3
   },
   "file_extension": ".py",
   "mimetype": "text/x-python",
   "name": "python",
   "nbconvert_exporter": "python",
   "pygments_lexer": "ipython3",
   "version": "3.10.7"
  },
  "orig_nbformat": 4,
  "vscode": {
   "interpreter": {
    "hash": "eb4a0ac80907d7f44e1a5e88d3d3381b33e3dbedd3a24d113e876f30a0c46bee"
   }
  }
 },
 "nbformat": 4,
 "nbformat_minor": 2
}
