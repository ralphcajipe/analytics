{
 "cells": [
  {
   "cell_type": "markdown",
   "metadata": {},
   "source": [
    "# [M2-TECHNICAL] Technical Assessment 2\n",
    "Ralph Cajipe"
   ]
  },
  {
   "cell_type": "markdown",
   "metadata": {},
   "source": [
    "The ABC Telcom Customers dataset"
   ]
  },
  {
   "cell_type": "code",
   "execution_count": 1,
   "metadata": {},
   "outputs": [],
   "source": [
    "import pandas as pd"
   ]
  },
  {
   "cell_type": "markdown",
   "metadata": {},
   "source": [
    "# 1. Create"
   ]
  },
  {
   "cell_type": "markdown",
   "metadata": {},
   "source": [
    "### 1.1 Create from a XLSX"
   ]
  },
  {
   "cell_type": "markdown",
   "metadata": {},
   "source": [
    "The ABC Telcom Customers dataset"
   ]
  },
  {
   "cell_type": "code",
   "execution_count": 2,
   "metadata": {},
   "outputs": [],
   "source": [
    "# Importing the openpyxl module to read and write excel files since we will use a .xls file\n",
    "import openpyxl\n",
    "\n",
    "df = pd.read_excel('clean-CustomerInfo.xlsx')"
   ]
  },
  {
   "cell_type": "markdown",
   "metadata": {},
   "source": [
    "# 2. Read"
   ]
  },
  {
   "cell_type": "markdown",
   "metadata": {},
   "source": [
    "The reading should be a long process to ensure you fully understand the data."
   ]
  },
  {
   "cell_type": "markdown",
   "metadata": {},
   "source": [
    "### 2.1 Show the shape of the data"
   ]
  },
  {
   "cell_type": "code",
   "execution_count": 3,
   "metadata": {},
   "outputs": [
    {
     "data": {
      "text/plain": [
       "(600, 8)"
      ]
     },
     "execution_count": 3,
     "metadata": {},
     "output_type": "execute_result"
    }
   ],
   "source": [
    "df.shape"
   ]
  },
  {
   "cell_type": "markdown",
   "metadata": {},
   "source": [
    "### 2.2 Show Top 5 and Bottom 5 Rows"
   ]
  },
  {
   "cell_type": "code",
   "execution_count": 4,
   "metadata": {},
   "outputs": [
    {
     "data": {
      "text/html": [
       "<div>\n",
       "<style scoped>\n",
       "    .dataframe tbody tr th:only-of-type {\n",
       "        vertical-align: middle;\n",
       "    }\n",
       "\n",
       "    .dataframe tbody tr th {\n",
       "        vertical-align: top;\n",
       "    }\n",
       "\n",
       "    .dataframe thead th {\n",
       "        text-align: right;\n",
       "    }\n",
       "</style>\n",
       "<table border=\"1\" class=\"dataframe\">\n",
       "  <thead>\n",
       "    <tr style=\"text-align: right;\">\n",
       "      <th></th>\n",
       "      <th>Customer_ID</th>\n",
       "      <th>Occupation</th>\n",
       "      <th>PROVINCE</th>\n",
       "      <th>GENDER</th>\n",
       "      <th>MARITAL_STATUS</th>\n",
       "      <th>URBANITY</th>\n",
       "      <th>CREDIT_BUREAU</th>\n",
       "      <th>INCOME_TIER</th>\n",
       "    </tr>\n",
       "  </thead>\n",
       "  <tbody>\n",
       "    <tr>\n",
       "      <th>0</th>\n",
       "      <td>009-17336</td>\n",
       "      <td>White collar worker</td>\n",
       "      <td>TK1</td>\n",
       "      <td>FEMALE</td>\n",
       "      <td>MARRIED</td>\n",
       "      <td>Rural</td>\n",
       "      <td>B</td>\n",
       "      <td>2.0</td>\n",
       "    </tr>\n",
       "    <tr>\n",
       "      <th>1</th>\n",
       "      <td>009-17170</td>\n",
       "      <td>Small Farrmer</td>\n",
       "      <td>TK</td>\n",
       "      <td>FEMALE</td>\n",
       "      <td>MARRIED</td>\n",
       "      <td>Rural</td>\n",
       "      <td>D</td>\n",
       "      <td>2.0</td>\n",
       "    </tr>\n",
       "    <tr>\n",
       "      <th>2</th>\n",
       "      <td>009-17046</td>\n",
       "      <td>Factory worker</td>\n",
       "      <td>TK</td>\n",
       "      <td>FEMALE</td>\n",
       "      <td>MARRIED</td>\n",
       "      <td>Rural</td>\n",
       "      <td>D</td>\n",
       "      <td>2.0</td>\n",
       "    </tr>\n",
       "    <tr>\n",
       "      <th>3</th>\n",
       "      <td>009-17381</td>\n",
       "      <td>Construction Worker</td>\n",
       "      <td>TK</td>\n",
       "      <td>FEMALE</td>\n",
       "      <td>WIDOWER</td>\n",
       "      <td>Rural</td>\n",
       "      <td>D</td>\n",
       "      <td>2.0</td>\n",
       "    </tr>\n",
       "    <tr>\n",
       "      <th>4</th>\n",
       "      <td>009-17088</td>\n",
       "      <td>Factory worker</td>\n",
       "      <td>TK</td>\n",
       "      <td>FEMALE</td>\n",
       "      <td>WIDOWER</td>\n",
       "      <td>Rural</td>\n",
       "      <td>D</td>\n",
       "      <td>3.0</td>\n",
       "    </tr>\n",
       "    <tr>\n",
       "      <th>5</th>\n",
       "      <td>009-17186</td>\n",
       "      <td>Small Business Owner</td>\n",
       "      <td>TK</td>\n",
       "      <td>FEMALE</td>\n",
       "      <td>MARRIED</td>\n",
       "      <td>Rural</td>\n",
       "      <td>D</td>\n",
       "      <td>3.0</td>\n",
       "    </tr>\n",
       "    <tr>\n",
       "      <th>6</th>\n",
       "      <td>009-17283</td>\n",
       "      <td>Factory worker</td>\n",
       "      <td>TK</td>\n",
       "      <td>MALE</td>\n",
       "      <td>MARRIED</td>\n",
       "      <td>Rural</td>\n",
       "      <td>NaN</td>\n",
       "      <td>3.0</td>\n",
       "    </tr>\n",
       "    <tr>\n",
       "      <th>7</th>\n",
       "      <td>009-17058</td>\n",
       "      <td>Factory worker</td>\n",
       "      <td>TK</td>\n",
       "      <td>FEMALE</td>\n",
       "      <td>SINGLE</td>\n",
       "      <td>Rural</td>\n",
       "      <td>A</td>\n",
       "      <td>2.0</td>\n",
       "    </tr>\n",
       "    <tr>\n",
       "      <th>8</th>\n",
       "      <td>009-17535</td>\n",
       "      <td>Small Farmer</td>\n",
       "      <td>TK</td>\n",
       "      <td>FEMALE</td>\n",
       "      <td>MARRIED</td>\n",
       "      <td>Rural</td>\n",
       "      <td>D</td>\n",
       "      <td>2.0</td>\n",
       "    </tr>\n",
       "    <tr>\n",
       "      <th>9</th>\n",
       "      <td>009-17140</td>\n",
       "      <td>Small Farrmer</td>\n",
       "      <td>Takeo</td>\n",
       "      <td>FEMALE</td>\n",
       "      <td>MARRIED</td>\n",
       "      <td>Rural</td>\n",
       "      <td>NaN</td>\n",
       "      <td>2.0</td>\n",
       "    </tr>\n",
       "  </tbody>\n",
       "</table>\n",
       "</div>"
      ],
      "text/plain": [
       "  Customer_ID            Occupation PROVINCE  GENDER MARITAL_STATUS URBANITY  \\\n",
       "0   009-17336   White collar worker      TK1  FEMALE        MARRIED    Rural   \n",
       "1   009-17170         Small Farrmer       TK  FEMALE        MARRIED    Rural   \n",
       "2   009-17046        Factory worker       TK  FEMALE        MARRIED    Rural   \n",
       "3   009-17381   Construction Worker       TK  FEMALE        WIDOWER    Rural   \n",
       "4   009-17088        Factory worker       TK  FEMALE        WIDOWER    Rural   \n",
       "5   009-17186  Small Business Owner       TK  FEMALE        MARRIED    Rural   \n",
       "6   009-17283        Factory worker       TK    MALE        MARRIED    Rural   \n",
       "7   009-17058        Factory worker       TK  FEMALE         SINGLE    Rural   \n",
       "8   009-17535          Small Farmer       TK  FEMALE        MARRIED    Rural   \n",
       "9   009-17140         Small Farrmer    Takeo  FEMALE        MARRIED    Rural   \n",
       "\n",
       "  CREDIT_BUREAU  INCOME_TIER  \n",
       "0             B          2.0  \n",
       "1             D          2.0  \n",
       "2             D          2.0  \n",
       "3             D          2.0  \n",
       "4             D          3.0  \n",
       "5             D          3.0  \n",
       "6           NaN          3.0  \n",
       "7             A          2.0  \n",
       "8             D          2.0  \n",
       "9           NaN          2.0  "
      ]
     },
     "execution_count": 4,
     "metadata": {},
     "output_type": "execute_result"
    }
   ],
   "source": [
    "df.head(10)"
   ]
  },
  {
   "cell_type": "code",
   "execution_count": 5,
   "metadata": {},
   "outputs": [
    {
     "data": {
      "text/html": [
       "<div>\n",
       "<style scoped>\n",
       "    .dataframe tbody tr th:only-of-type {\n",
       "        vertical-align: middle;\n",
       "    }\n",
       "\n",
       "    .dataframe tbody tr th {\n",
       "        vertical-align: top;\n",
       "    }\n",
       "\n",
       "    .dataframe thead th {\n",
       "        text-align: right;\n",
       "    }\n",
       "</style>\n",
       "<table border=\"1\" class=\"dataframe\">\n",
       "  <thead>\n",
       "    <tr style=\"text-align: right;\">\n",
       "      <th></th>\n",
       "      <th>Customer_ID</th>\n",
       "      <th>Occupation</th>\n",
       "      <th>PROVINCE</th>\n",
       "      <th>GENDER</th>\n",
       "      <th>MARITAL_STATUS</th>\n",
       "      <th>URBANITY</th>\n",
       "      <th>CREDIT_BUREAU</th>\n",
       "      <th>INCOME_TIER</th>\n",
       "    </tr>\n",
       "  </thead>\n",
       "  <tbody>\n",
       "    <tr>\n",
       "      <th>595</th>\n",
       "      <td>009-17211</td>\n",
       "      <td>Factory worker</td>\n",
       "      <td>TK</td>\n",
       "      <td>MALE</td>\n",
       "      <td>MARRIED</td>\n",
       "      <td>Rural</td>\n",
       "      <td>A</td>\n",
       "      <td>3.0</td>\n",
       "    </tr>\n",
       "    <tr>\n",
       "      <th>596</th>\n",
       "      <td>009-17593</td>\n",
       "      <td>NaN</td>\n",
       "      <td>TK</td>\n",
       "      <td>FEMALE</td>\n",
       "      <td>WIDOWER</td>\n",
       "      <td>Rural</td>\n",
       "      <td>NaN</td>\n",
       "      <td>NaN</td>\n",
       "    </tr>\n",
       "    <tr>\n",
       "      <th>597</th>\n",
       "      <td>009-17279</td>\n",
       "      <td>Small Farmer</td>\n",
       "      <td>TK</td>\n",
       "      <td>FEMALE</td>\n",
       "      <td>WIDOWER</td>\n",
       "      <td>Rural</td>\n",
       "      <td>D</td>\n",
       "      <td>2.0</td>\n",
       "    </tr>\n",
       "    <tr>\n",
       "      <th>598</th>\n",
       "      <td>009-17433</td>\n",
       "      <td>Factory worker</td>\n",
       "      <td>KS</td>\n",
       "      <td>MALE</td>\n",
       "      <td>MARRIED</td>\n",
       "      <td>Rural</td>\n",
       "      <td>B</td>\n",
       "      <td>3.0</td>\n",
       "    </tr>\n",
       "    <tr>\n",
       "      <th>599</th>\n",
       "      <td>009-17396</td>\n",
       "      <td>White collar worker</td>\n",
       "      <td>TK</td>\n",
       "      <td>MALE</td>\n",
       "      <td>MARRIED</td>\n",
       "      <td>Rural</td>\n",
       "      <td>B</td>\n",
       "      <td>3.0</td>\n",
       "    </tr>\n",
       "  </tbody>\n",
       "</table>\n",
       "</div>"
      ],
      "text/plain": [
       "    Customer_ID           Occupation PROVINCE  GENDER MARITAL_STATUS URBANITY  \\\n",
       "595   009-17211       Factory worker       TK    MALE        MARRIED    Rural   \n",
       "596   009-17593                  NaN       TK  FEMALE        WIDOWER    Rural   \n",
       "597   009-17279         Small Farmer       TK  FEMALE        WIDOWER    Rural   \n",
       "598   009-17433       Factory worker       KS    MALE        MARRIED    Rural   \n",
       "599   009-17396  White collar worker       TK    MALE        MARRIED    Rural   \n",
       "\n",
       "    CREDIT_BUREAU  INCOME_TIER  \n",
       "595             A          3.0  \n",
       "596           NaN          NaN  \n",
       "597             D          2.0  \n",
       "598             B          3.0  \n",
       "599             B          3.0  "
      ]
     },
     "execution_count": 5,
     "metadata": {},
     "output_type": "execute_result"
    }
   ],
   "source": [
    "df.tail()"
   ]
  },
  {
   "cell_type": "markdown",
   "metadata": {},
   "source": [
    "### 2.3 Show Columns and Data Type"
   ]
  },
  {
   "cell_type": "code",
   "execution_count": 7,
   "metadata": {},
   "outputs": [
    {
     "data": {
      "text/plain": [
       "Index(['Customer_ID', 'Occupation', 'PROVINCE', 'GENDER', 'MARITAL_STATUS',\n",
       "       'URBANITY', 'CREDIT_BUREAU', 'INCOME_TIER'],\n",
       "      dtype='object')"
      ]
     },
     "execution_count": 7,
     "metadata": {},
     "output_type": "execute_result"
    }
   ],
   "source": [
    "df.columns"
   ]
  },
  {
   "cell_type": "code",
   "execution_count": 8,
   "metadata": {},
   "outputs": [
    {
     "data": {
      "text/plain": [
       "Customer_ID        object\n",
       "Occupation         object\n",
       "PROVINCE           object\n",
       "GENDER             object\n",
       "MARITAL_STATUS     object\n",
       "URBANITY           object\n",
       "CREDIT_BUREAU      object\n",
       "INCOME_TIER       float64\n",
       "dtype: object"
      ]
     },
     "execution_count": 8,
     "metadata": {},
     "output_type": "execute_result"
    }
   ],
   "source": [
    "df.dtypes"
   ]
  },
  {
   "cell_type": "markdown",
   "metadata": {},
   "source": [
    "### 2.4 Summary Statistics"
   ]
  },
  {
   "cell_type": "code",
   "execution_count": 9,
   "metadata": {},
   "outputs": [
    {
     "data": {
      "text/html": [
       "<div>\n",
       "<style scoped>\n",
       "    .dataframe tbody tr th:only-of-type {\n",
       "        vertical-align: middle;\n",
       "    }\n",
       "\n",
       "    .dataframe tbody tr th {\n",
       "        vertical-align: top;\n",
       "    }\n",
       "\n",
       "    .dataframe thead th {\n",
       "        text-align: right;\n",
       "    }\n",
       "</style>\n",
       "<table border=\"1\" class=\"dataframe\">\n",
       "  <thead>\n",
       "    <tr style=\"text-align: right;\">\n",
       "      <th></th>\n",
       "      <th>INCOME_TIER</th>\n",
       "    </tr>\n",
       "  </thead>\n",
       "  <tbody>\n",
       "    <tr>\n",
       "      <th>count</th>\n",
       "      <td>592.000000</td>\n",
       "    </tr>\n",
       "    <tr>\n",
       "      <th>mean</th>\n",
       "      <td>2.807432</td>\n",
       "    </tr>\n",
       "    <tr>\n",
       "      <th>std</th>\n",
       "      <td>0.818615</td>\n",
       "    </tr>\n",
       "    <tr>\n",
       "      <th>min</th>\n",
       "      <td>1.000000</td>\n",
       "    </tr>\n",
       "    <tr>\n",
       "      <th>25%</th>\n",
       "      <td>2.000000</td>\n",
       "    </tr>\n",
       "    <tr>\n",
       "      <th>50%</th>\n",
       "      <td>3.000000</td>\n",
       "    </tr>\n",
       "    <tr>\n",
       "      <th>75%</th>\n",
       "      <td>3.000000</td>\n",
       "    </tr>\n",
       "    <tr>\n",
       "      <th>max</th>\n",
       "      <td>5.000000</td>\n",
       "    </tr>\n",
       "  </tbody>\n",
       "</table>\n",
       "</div>"
      ],
      "text/plain": [
       "       INCOME_TIER\n",
       "count   592.000000\n",
       "mean      2.807432\n",
       "std       0.818615\n",
       "min       1.000000\n",
       "25%       2.000000\n",
       "50%       3.000000\n",
       "75%       3.000000\n",
       "max       5.000000"
      ]
     },
     "execution_count": 9,
     "metadata": {},
     "output_type": "execute_result"
    }
   ],
   "source": [
    "df.describe()"
   ]
  },
  {
   "cell_type": "code",
   "execution_count": 10,
   "metadata": {},
   "outputs": [
    {
     "data": {
      "text/html": [
       "<div>\n",
       "<style scoped>\n",
       "    .dataframe tbody tr th:only-of-type {\n",
       "        vertical-align: middle;\n",
       "    }\n",
       "\n",
       "    .dataframe tbody tr th {\n",
       "        vertical-align: top;\n",
       "    }\n",
       "\n",
       "    .dataframe thead th {\n",
       "        text-align: right;\n",
       "    }\n",
       "</style>\n",
       "<table border=\"1\" class=\"dataframe\">\n",
       "  <thead>\n",
       "    <tr style=\"text-align: right;\">\n",
       "      <th></th>\n",
       "      <th>Customer_ID</th>\n",
       "      <th>Occupation</th>\n",
       "      <th>PROVINCE</th>\n",
       "      <th>GENDER</th>\n",
       "      <th>MARITAL_STATUS</th>\n",
       "      <th>URBANITY</th>\n",
       "      <th>CREDIT_BUREAU</th>\n",
       "    </tr>\n",
       "  </thead>\n",
       "  <tbody>\n",
       "    <tr>\n",
       "      <th>count</th>\n",
       "      <td>600</td>\n",
       "      <td>592</td>\n",
       "      <td>600</td>\n",
       "      <td>600</td>\n",
       "      <td>600</td>\n",
       "      <td>600</td>\n",
       "      <td>440</td>\n",
       "    </tr>\n",
       "    <tr>\n",
       "      <th>unique</th>\n",
       "      <td>600</td>\n",
       "      <td>12</td>\n",
       "      <td>9</td>\n",
       "      <td>2</td>\n",
       "      <td>4</td>\n",
       "      <td>1</td>\n",
       "      <td>4</td>\n",
       "    </tr>\n",
       "    <tr>\n",
       "      <th>top</th>\n",
       "      <td>009-17336</td>\n",
       "      <td>Factory worker</td>\n",
       "      <td>TK</td>\n",
       "      <td>FEMALE</td>\n",
       "      <td>MARRIED</td>\n",
       "      <td>Rural</td>\n",
       "      <td>D</td>\n",
       "    </tr>\n",
       "    <tr>\n",
       "      <th>freq</th>\n",
       "      <td>1</td>\n",
       "      <td>176</td>\n",
       "      <td>558</td>\n",
       "      <td>452</td>\n",
       "      <td>412</td>\n",
       "      <td>600</td>\n",
       "      <td>152</td>\n",
       "    </tr>\n",
       "  </tbody>\n",
       "</table>\n",
       "</div>"
      ],
      "text/plain": [
       "       Customer_ID      Occupation PROVINCE  GENDER MARITAL_STATUS URBANITY  \\\n",
       "count          600             592      600     600            600      600   \n",
       "unique         600              12        9       2              4        1   \n",
       "top      009-17336  Factory worker       TK  FEMALE        MARRIED    Rural   \n",
       "freq             1             176      558     452            412      600   \n",
       "\n",
       "       CREDIT_BUREAU  \n",
       "count            440  \n",
       "unique             4  \n",
       "top                D  \n",
       "freq             152  "
      ]
     },
     "execution_count": 10,
     "metadata": {},
     "output_type": "execute_result"
    }
   ],
   "source": [
    "# This is a function that will return the number of unique values in a column\n",
    "df.describe(include='object')"
   ]
  },
  {
   "cell_type": "markdown",
   "metadata": {},
   "source": [
    "### 2.5 Filtering columns"
   ]
  },
  {
   "cell_type": "code",
   "execution_count": 11,
   "metadata": {},
   "outputs": [
    {
     "data": {
      "text/plain": [
       "0      White collar worker\n",
       "1            Small Farrmer\n",
       "2           Factory worker\n",
       "3      Construction Worker\n",
       "4           Factory worker\n",
       "              ...         \n",
       "595         Factory worker\n",
       "596                    NaN\n",
       "597           Small Farmer\n",
       "598         Factory worker\n",
       "599    White collar worker\n",
       "Name: Occupation, Length: 600, dtype: object"
      ]
     },
     "execution_count": 11,
     "metadata": {},
     "output_type": "execute_result"
    }
   ],
   "source": [
    "df.Occupation"
   ]
  },
  {
   "cell_type": "markdown",
   "metadata": {},
   "source": [
    "### 2.6 Filtering on rows"
   ]
  },
  {
   "cell_type": "code",
   "execution_count": 12,
   "metadata": {},
   "outputs": [
    {
     "data": {
      "text/html": [
       "<div>\n",
       "<style scoped>\n",
       "    .dataframe tbody tr th:only-of-type {\n",
       "        vertical-align: middle;\n",
       "    }\n",
       "\n",
       "    .dataframe tbody tr th {\n",
       "        vertical-align: top;\n",
       "    }\n",
       "\n",
       "    .dataframe thead th {\n",
       "        text-align: right;\n",
       "    }\n",
       "</style>\n",
       "<table border=\"1\" class=\"dataframe\">\n",
       "  <thead>\n",
       "    <tr style=\"text-align: right;\">\n",
       "      <th></th>\n",
       "      <th>Customer_ID</th>\n",
       "      <th>Occupation</th>\n",
       "      <th>PROVINCE</th>\n",
       "      <th>GENDER</th>\n",
       "      <th>MARITAL_STATUS</th>\n",
       "      <th>URBANITY</th>\n",
       "      <th>CREDIT_BUREAU</th>\n",
       "      <th>INCOME_TIER</th>\n",
       "    </tr>\n",
       "  </thead>\n",
       "  <tbody>\n",
       "    <tr>\n",
       "      <th>0</th>\n",
       "      <td>009-17336</td>\n",
       "      <td>White collar worker</td>\n",
       "      <td>TK1</td>\n",
       "      <td>FEMALE</td>\n",
       "      <td>MARRIED</td>\n",
       "      <td>Rural</td>\n",
       "      <td>B</td>\n",
       "      <td>2.0</td>\n",
       "    </tr>\n",
       "    <tr>\n",
       "      <th>1</th>\n",
       "      <td>009-17170</td>\n",
       "      <td>Small Farrmer</td>\n",
       "      <td>TK</td>\n",
       "      <td>FEMALE</td>\n",
       "      <td>MARRIED</td>\n",
       "      <td>Rural</td>\n",
       "      <td>D</td>\n",
       "      <td>2.0</td>\n",
       "    </tr>\n",
       "    <tr>\n",
       "      <th>2</th>\n",
       "      <td>009-17046</td>\n",
       "      <td>Factory worker</td>\n",
       "      <td>TK</td>\n",
       "      <td>FEMALE</td>\n",
       "      <td>MARRIED</td>\n",
       "      <td>Rural</td>\n",
       "      <td>D</td>\n",
       "      <td>2.0</td>\n",
       "    </tr>\n",
       "    <tr>\n",
       "      <th>3</th>\n",
       "      <td>009-17381</td>\n",
       "      <td>Construction Worker</td>\n",
       "      <td>TK</td>\n",
       "      <td>FEMALE</td>\n",
       "      <td>WIDOWER</td>\n",
       "      <td>Rural</td>\n",
       "      <td>D</td>\n",
       "      <td>2.0</td>\n",
       "    </tr>\n",
       "    <tr>\n",
       "      <th>4</th>\n",
       "      <td>009-17088</td>\n",
       "      <td>Factory worker</td>\n",
       "      <td>TK</td>\n",
       "      <td>FEMALE</td>\n",
       "      <td>WIDOWER</td>\n",
       "      <td>Rural</td>\n",
       "      <td>D</td>\n",
       "      <td>3.0</td>\n",
       "    </tr>\n",
       "  </tbody>\n",
       "</table>\n",
       "</div>"
      ],
      "text/plain": [
       "  Customer_ID           Occupation PROVINCE  GENDER MARITAL_STATUS URBANITY  \\\n",
       "0   009-17336  White collar worker      TK1  FEMALE        MARRIED    Rural   \n",
       "1   009-17170        Small Farrmer       TK  FEMALE        MARRIED    Rural   \n",
       "2   009-17046       Factory worker       TK  FEMALE        MARRIED    Rural   \n",
       "3   009-17381  Construction Worker       TK  FEMALE        WIDOWER    Rural   \n",
       "4   009-17088       Factory worker       TK  FEMALE        WIDOWER    Rural   \n",
       "\n",
       "  CREDIT_BUREAU  INCOME_TIER  \n",
       "0             B          2.0  \n",
       "1             D          2.0  \n",
       "2             D          2.0  \n",
       "3             D          2.0  \n",
       "4             D          3.0  "
      ]
     },
     "execution_count": 12,
     "metadata": {},
     "output_type": "execute_result"
    }
   ],
   "source": [
    "df.head()"
   ]
  },
  {
   "cell_type": "markdown",
   "metadata": {},
   "source": [
    "# 3. Update/Clean"
   ]
  },
  {
   "cell_type": "markdown",
   "metadata": {},
   "source": [
    "### 3.1 We will not drop missing values in an instance someone happens to have no occupation, a customer with no occupation is still a customer and among other reasons can be used for analysis."
   ]
  },
  {
   "cell_type": "markdown",
   "metadata": {},
   "source": [
    "### 3.2 Drop duplicates"
   ]
  },
  {
   "cell_type": "code",
   "execution_count": null,
   "metadata": {},
   "outputs": [],
   "source": [
    "# Drop duplicates\n",
    "df.drop_duplicates()"
   ]
  },
  {
   "cell_type": "code",
   "execution_count": 14,
   "metadata": {},
   "outputs": [
    {
     "data": {
      "text/plain": [
       "0"
      ]
     },
     "execution_count": 14,
     "metadata": {},
     "output_type": "execute_result"
    }
   ],
   "source": [
    "# Check for duplicates\n",
    "df.duplicated().sum()"
   ]
  },
  {
   "cell_type": "markdown",
   "metadata": {},
   "source": [
    "### 3.3 Fix mispelled features or column names"
   ]
  },
  {
   "cell_type": "code",
   "execution_count": 18,
   "metadata": {},
   "outputs": [],
   "source": [
    "# Rename \"Small Farrmer\" to \"Small Farmer\"\n",
    "df['Occupation'] = df['Occupation'].replace('Small Farrmer', 'Small Farmer')"
   ]
  },
  {
   "cell_type": "markdown",
   "metadata": {},
   "source": [
    "### 3.4 Fix mispelled values in a column"
   ]
  },
  {
   "cell_type": "markdown",
   "metadata": {},
   "source": [
    "We are dealing with provinces in Cambodia, so we will fix the mispelled values in the province column."
   ]
  },
  {
   "cell_type": "code",
   "execution_count": 34,
   "metadata": {},
   "outputs": [],
   "source": [
    "# In PROVINCE column, replace \"TK\" and \"TK1\", with \"Takéo\" \n",
    "df['PROVINCE'] = df['PROVINCE'].replace(['TK', 'TK1'], 'Takéo')"
   ]
  },
  {
   "cell_type": "code",
   "execution_count": 37,
   "metadata": {},
   "outputs": [],
   "source": [
    "# In PROVINCE column, replace \"BM\" with \"Banteay Meanchey\"\n",
    "df['PROVINCE'] = df['PROVINCE'].replace('BM', 'Banteay Meanchey')"
   ]
  },
  {
   "cell_type": "code",
   "execution_count": 40,
   "metadata": {},
   "outputs": [],
   "source": [
    "# In PROVINCE column, replace \"KS\" with \"Kampong Speu\"\n",
    "df['PROVINCE'] = df['PROVINCE'].replace('KS', 'Kampong Speu')"
   ]
  },
  {
   "cell_type": "code",
   "execution_count": 42,
   "metadata": {},
   "outputs": [],
   "source": [
    "# In PROVINCE column, replace \"KP\" with \"Kampot\"\n",
    "df['PROVINCE'] = df['PROVINCE'].replace('KP', 'Kampot')"
   ]
  },
  {
   "cell_type": "code",
   "execution_count": 45,
   "metadata": {},
   "outputs": [
    {
     "data": {
      "text/plain": [
       "Takéo               575\n",
       "Banteay Meanchey      9\n",
       "Kampong Speu          8\n",
       "Kampot                8\n",
       "Name: PROVINCE, dtype: int64"
      ]
     },
     "execution_count": 45,
     "metadata": {},
     "output_type": "execute_result"
    }
   ],
   "source": [
    "# Show all provinces with fixed names\n",
    "df['PROVINCE'].value_counts()"
   ]
  },
  {
   "cell_type": "code",
   "execution_count": null,
   "metadata": {},
   "outputs": [],
   "source": [
    "# Show the entire dataframe with no ellipsis in the middle so we can see everything\n",
    "pd.set_option('display.max_rows', None)\n",
    "df\n"
   ]
  },
  {
   "cell_type": "markdown",
   "metadata": {},
   "source": [
    "# 4. Output"
   ]
  },
  {
   "cell_type": "markdown",
   "metadata": {},
   "source": [
    "### 4.1 Output to CSV"
   ]
  },
  {
   "cell_type": "code",
   "execution_count": 118,
   "metadata": {},
   "outputs": [],
   "source": [
    "df.to_excel('output-CustomerInfo.xlsx')"
   ]
  },
  {
   "cell_type": "code",
   "execution_count": 48,
   "metadata": {},
   "outputs": [],
   "source": [
    "df.to_csv('output-CustomerInfo.csv')"
   ]
  },
  {
   "cell_type": "code",
   "execution_count": 49,
   "metadata": {},
   "outputs": [],
   "source": [
    "df.to_html('output-CustomerInfo.html')"
   ]
  },
  {
   "cell_type": "markdown",
   "metadata": {},
   "source": [
    "# 5. Customer Analysis"
   ]
  },
  {
   "cell_type": "markdown",
   "metadata": {},
   "source": [
    "### 5.1 Find the most common occupation among customers"
   ]
  },
  {
   "cell_type": "code",
   "execution_count": 57,
   "metadata": {},
   "outputs": [
    {
     "data": {
      "text/plain": [
       "Small Farmer                180\n",
       "Factory worker              176\n",
       "Construction Worker          68\n",
       "White collar worker          40\n",
       "SME Farmer                   36\n",
       "Food supplier/restaurant     24\n",
       "Other                        20\n",
       "Small Business Owner         16\n",
       "Car Repair Shop              16\n",
       "Medium Biz                   12\n",
       "Land Transport Service        4\n",
       "Name: Occupation, dtype: int64"
      ]
     },
     "execution_count": 57,
     "metadata": {},
     "output_type": "execute_result"
    }
   ],
   "source": [
    "# Find out what occupation the majority of customers are in\n",
    "df['Occupation'].value_counts()\n"
   ]
  },
  {
   "cell_type": "markdown",
   "metadata": {},
   "source": [
    "The occupation that the majority of customers are in is \"Small Farmer\" with 180 customers. \n",
    "The least number of customers is \"Land Transportation Service\" with 4 customers."
   ]
  },
  {
   "cell_type": "markdown",
   "metadata": {},
   "source": [
    "### 5.2 Count the total number of unique customers"
   ]
  },
  {
   "cell_type": "code",
   "execution_count": 52,
   "metadata": {},
   "outputs": [
    {
     "data": {
      "text/plain": [
       "600"
      ]
     },
     "execution_count": 52,
     "metadata": {},
     "output_type": "execute_result"
    }
   ],
   "source": [
    "df['Customer_ID'].nunique()"
   ]
  },
  {
   "cell_type": "code",
   "execution_count": 53,
   "metadata": {},
   "outputs": [
    {
     "data": {
      "text/html": [
       "<div>\n",
       "<style scoped>\n",
       "    .dataframe tbody tr th:only-of-type {\n",
       "        vertical-align: middle;\n",
       "    }\n",
       "\n",
       "    .dataframe tbody tr th {\n",
       "        vertical-align: top;\n",
       "    }\n",
       "\n",
       "    .dataframe thead th {\n",
       "        text-align: right;\n",
       "    }\n",
       "</style>\n",
       "<table border=\"1\" class=\"dataframe\">\n",
       "  <thead>\n",
       "    <tr style=\"text-align: right;\">\n",
       "      <th></th>\n",
       "      <th>Customer_ID</th>\n",
       "      <th>Occupation</th>\n",
       "      <th>PROVINCE</th>\n",
       "      <th>GENDER</th>\n",
       "      <th>MARITAL_STATUS</th>\n",
       "      <th>URBANITY</th>\n",
       "      <th>CREDIT_BUREAU</th>\n",
       "    </tr>\n",
       "  </thead>\n",
       "  <tbody>\n",
       "    <tr>\n",
       "      <th>count</th>\n",
       "      <td>600</td>\n",
       "      <td>592</td>\n",
       "      <td>600</td>\n",
       "      <td>600</td>\n",
       "      <td>600</td>\n",
       "      <td>600</td>\n",
       "      <td>440</td>\n",
       "    </tr>\n",
       "    <tr>\n",
       "      <th>unique</th>\n",
       "      <td>600</td>\n",
       "      <td>11</td>\n",
       "      <td>4</td>\n",
       "      <td>2</td>\n",
       "      <td>4</td>\n",
       "      <td>1</td>\n",
       "      <td>4</td>\n",
       "    </tr>\n",
       "    <tr>\n",
       "      <th>top</th>\n",
       "      <td>009-17336</td>\n",
       "      <td>Small Farmer</td>\n",
       "      <td>Takéo</td>\n",
       "      <td>FEMALE</td>\n",
       "      <td>MARRIED</td>\n",
       "      <td>Rural</td>\n",
       "      <td>D</td>\n",
       "    </tr>\n",
       "    <tr>\n",
       "      <th>freq</th>\n",
       "      <td>1</td>\n",
       "      <td>180</td>\n",
       "      <td>575</td>\n",
       "      <td>452</td>\n",
       "      <td>412</td>\n",
       "      <td>600</td>\n",
       "      <td>152</td>\n",
       "    </tr>\n",
       "  </tbody>\n",
       "</table>\n",
       "</div>"
      ],
      "text/plain": [
       "       Customer_ID    Occupation PROVINCE  GENDER MARITAL_STATUS URBANITY  \\\n",
       "count          600           592      600     600            600      600   \n",
       "unique         600            11        4       2              4        1   \n",
       "top      009-17336  Small Farmer    Takéo  FEMALE        MARRIED    Rural   \n",
       "freq             1           180      575     452            412      600   \n",
       "\n",
       "       CREDIT_BUREAU  \n",
       "count            440  \n",
       "unique             4  \n",
       "top                D  \n",
       "freq             152  "
      ]
     },
     "execution_count": 53,
     "metadata": {},
     "output_type": "execute_result"
    }
   ],
   "source": [
    "df.describe(include='object')"
   ]
  },
  {
   "cell_type": "markdown",
   "metadata": {},
   "source": [
    "### 5.3 Find customers with no occupation"
   ]
  },
  {
   "cell_type": "code",
   "execution_count": 54,
   "metadata": {},
   "outputs": [
    {
     "data": {
      "text/html": [
       "<div>\n",
       "<style scoped>\n",
       "    .dataframe tbody tr th:only-of-type {\n",
       "        vertical-align: middle;\n",
       "    }\n",
       "\n",
       "    .dataframe tbody tr th {\n",
       "        vertical-align: top;\n",
       "    }\n",
       "\n",
       "    .dataframe thead th {\n",
       "        text-align: right;\n",
       "    }\n",
       "</style>\n",
       "<table border=\"1\" class=\"dataframe\">\n",
       "  <thead>\n",
       "    <tr style=\"text-align: right;\">\n",
       "      <th></th>\n",
       "      <th>Customer_ID</th>\n",
       "      <th>Occupation</th>\n",
       "      <th>PROVINCE</th>\n",
       "      <th>GENDER</th>\n",
       "      <th>MARITAL_STATUS</th>\n",
       "      <th>URBANITY</th>\n",
       "      <th>CREDIT_BUREAU</th>\n",
       "      <th>INCOME_TIER</th>\n",
       "    </tr>\n",
       "  </thead>\n",
       "  <tbody>\n",
       "    <tr>\n",
       "      <th>55</th>\n",
       "      <td>009-17010</td>\n",
       "      <td>NaN</td>\n",
       "      <td>Takéo</td>\n",
       "      <td>FEMALE</td>\n",
       "      <td>WIDOWER</td>\n",
       "      <td>Rural</td>\n",
       "      <td>NaN</td>\n",
       "      <td>NaN</td>\n",
       "    </tr>\n",
       "    <tr>\n",
       "      <th>84</th>\n",
       "      <td>009-17310</td>\n",
       "      <td>NaN</td>\n",
       "      <td>Takéo</td>\n",
       "      <td>FEMALE</td>\n",
       "      <td>WIDOWER</td>\n",
       "      <td>Rural</td>\n",
       "      <td>NaN</td>\n",
       "      <td>NaN</td>\n",
       "    </tr>\n",
       "    <tr>\n",
       "      <th>127</th>\n",
       "      <td>009-17161</td>\n",
       "      <td>NaN</td>\n",
       "      <td>Takéo</td>\n",
       "      <td>FEMALE</td>\n",
       "      <td>WIDOWER</td>\n",
       "      <td>Rural</td>\n",
       "      <td>NaN</td>\n",
       "      <td>NaN</td>\n",
       "    </tr>\n",
       "    <tr>\n",
       "      <th>204</th>\n",
       "      <td>009-17442</td>\n",
       "      <td>NaN</td>\n",
       "      <td>Takéo</td>\n",
       "      <td>FEMALE</td>\n",
       "      <td>WIDOWER</td>\n",
       "      <td>Rural</td>\n",
       "      <td>NaN</td>\n",
       "      <td>NaN</td>\n",
       "    </tr>\n",
       "    <tr>\n",
       "      <th>233</th>\n",
       "      <td>009-17293</td>\n",
       "      <td>NaN</td>\n",
       "      <td>Takéo</td>\n",
       "      <td>FEMALE</td>\n",
       "      <td>WIDOWER</td>\n",
       "      <td>Rural</td>\n",
       "      <td>NaN</td>\n",
       "      <td>NaN</td>\n",
       "    </tr>\n",
       "    <tr>\n",
       "      <th>285</th>\n",
       "      <td>009-17142</td>\n",
       "      <td>NaN</td>\n",
       "      <td>Takéo</td>\n",
       "      <td>FEMALE</td>\n",
       "      <td>WIDOWER</td>\n",
       "      <td>Rural</td>\n",
       "      <td>NaN</td>\n",
       "      <td>NaN</td>\n",
       "    </tr>\n",
       "    <tr>\n",
       "      <th>313</th>\n",
       "      <td>009-17461</td>\n",
       "      <td>NaN</td>\n",
       "      <td>Takéo</td>\n",
       "      <td>FEMALE</td>\n",
       "      <td>WIDOWER</td>\n",
       "      <td>Rural</td>\n",
       "      <td>NaN</td>\n",
       "      <td>NaN</td>\n",
       "    </tr>\n",
       "    <tr>\n",
       "      <th>596</th>\n",
       "      <td>009-17593</td>\n",
       "      <td>NaN</td>\n",
       "      <td>Takéo</td>\n",
       "      <td>FEMALE</td>\n",
       "      <td>WIDOWER</td>\n",
       "      <td>Rural</td>\n",
       "      <td>NaN</td>\n",
       "      <td>NaN</td>\n",
       "    </tr>\n",
       "  </tbody>\n",
       "</table>\n",
       "</div>"
      ],
      "text/plain": [
       "    Customer_ID Occupation PROVINCE  GENDER MARITAL_STATUS URBANITY  \\\n",
       "55    009-17010        NaN    Takéo  FEMALE        WIDOWER    Rural   \n",
       "84    009-17310        NaN    Takéo  FEMALE        WIDOWER    Rural   \n",
       "127   009-17161        NaN    Takéo  FEMALE        WIDOWER    Rural   \n",
       "204   009-17442        NaN    Takéo  FEMALE        WIDOWER    Rural   \n",
       "233   009-17293        NaN    Takéo  FEMALE        WIDOWER    Rural   \n",
       "285   009-17142        NaN    Takéo  FEMALE        WIDOWER    Rural   \n",
       "313   009-17461        NaN    Takéo  FEMALE        WIDOWER    Rural   \n",
       "596   009-17593        NaN    Takéo  FEMALE        WIDOWER    Rural   \n",
       "\n",
       "    CREDIT_BUREAU  INCOME_TIER  \n",
       "55            NaN          NaN  \n",
       "84            NaN          NaN  \n",
       "127           NaN          NaN  \n",
       "204           NaN          NaN  \n",
       "233           NaN          NaN  \n",
       "285           NaN          NaN  \n",
       "313           NaN          NaN  \n",
       "596           NaN          NaN  "
      ]
     },
     "execution_count": 54,
     "metadata": {},
     "output_type": "execute_result"
    }
   ],
   "source": [
    "df[df['Occupation'].isnull()]"
   ]
  },
  {
   "cell_type": "code",
   "execution_count": 55,
   "metadata": {},
   "outputs": [
    {
     "data": {
      "text/plain": [
       "8"
      ]
     },
     "execution_count": 55,
     "metadata": {},
     "output_type": "execute_result"
    }
   ],
   "source": [
    "# Count customers with no occupation\n",
    "df['Occupation'].isnull().sum()"
   ]
  },
  {
   "cell_type": "markdown",
   "metadata": {},
   "source": [
    "### 5.4 Find out from which province the majority of customers are from"
   ]
  },
  {
   "cell_type": "code",
   "execution_count": 56,
   "metadata": {},
   "outputs": [
    {
     "data": {
      "text/plain": [
       "Takéo               575\n",
       "Banteay Meanchey      9\n",
       "Kampong Speu          8\n",
       "Kampot                8\n",
       "Name: PROVINCE, dtype: int64"
      ]
     },
     "execution_count": 56,
     "metadata": {},
     "output_type": "execute_result"
    }
   ],
   "source": [
    "df['PROVINCE'].value_counts()"
   ]
  },
  {
   "cell_type": "markdown",
   "metadata": {},
   "source": [
    "The majority of customers come from Takéo Province with 575 customers, while others come from Banteay Meanchey, Kampong Speu, and Kampot."
   ]
  },
  {
   "cell_type": "markdown",
   "metadata": {},
   "source": [
    "### 5.5 In GENDER column, find out how many customers are male and female"
   ]
  },
  {
   "cell_type": "code",
   "execution_count": 58,
   "metadata": {},
   "outputs": [
    {
     "data": {
      "text/plain": [
       "FEMALE    452\n",
       "MALE      148\n",
       "Name: GENDER, dtype: int64"
      ]
     },
     "execution_count": 58,
     "metadata": {},
     "output_type": "execute_result"
    }
   ],
   "source": [
    "df['GENDER'].value_counts()"
   ]
  },
  {
   "cell_type": "markdown",
   "metadata": {},
   "source": [
    "Remember, this is the total count of workers for each occupation."
   ]
  },
  {
   "cell_type": "code",
   "execution_count": 63,
   "metadata": {},
   "outputs": [
    {
     "data": {
      "text/plain": [
       "Small Farmer                180\n",
       "Factory worker              176\n",
       "Construction Worker          68\n",
       "White collar worker          40\n",
       "SME Farmer                   36\n",
       "Food supplier/restaurant     24\n",
       "Other                        20\n",
       "Small Business Owner         16\n",
       "Car Repair Shop              16\n",
       "Medium Biz                   12\n",
       "Land Transport Service        4\n",
       "Name: Occupation, dtype: int64"
      ]
     },
     "execution_count": 63,
     "metadata": {},
     "output_type": "execute_result"
    }
   ],
   "source": [
    "df['Occupation'].value_counts()"
   ]
  },
  {
   "cell_type": "markdown",
   "metadata": {},
   "source": [
    "### 5.6 Which occupations are most common among male and female?"
   ]
  },
  {
   "cell_type": "code",
   "execution_count": 62,
   "metadata": {},
   "outputs": [
    {
     "data": {
      "text/plain": [
       "Occupation                GENDER\n",
       "Small Farmer              FEMALE    144\n",
       "Factory worker            FEMALE    140\n",
       "Construction Worker       FEMALE     68\n",
       "Factory worker            MALE       36\n",
       "Small Farmer              MALE       36\n",
       "White collar worker       MALE       24\n",
       "SME Farmer                FEMALE     24\n",
       "White collar worker       FEMALE     16\n",
       "SME Farmer                MALE       12\n",
       "Food supplier/restaurant  FEMALE     12\n",
       "                          MALE       12\n",
       "Small Business Owner      FEMALE     12\n",
       "Other                     MALE       12\n",
       "Car Repair Shop           FEMALE      8\n",
       "                          MALE        8\n",
       "Medium Biz                FEMALE      8\n",
       "Other                     FEMALE      8\n",
       "Small Business Owner      MALE        4\n",
       "Medium Biz                MALE        4\n",
       "Land Transport Service    FEMALE      4\n",
       "dtype: int64"
      ]
     },
     "execution_count": 62,
     "metadata": {},
     "output_type": "execute_result"
    }
   ],
   "source": [
    "df.groupby([\"Occupation\", \"GENDER\"]).size().sort_values(ascending=False)\n"
   ]
  },
  {
   "cell_type": "markdown",
   "metadata": {},
   "source": [
    "### 5.7 In MARITAL_STATUS, how many are single, married, divorced, or widowed?"
   ]
  },
  {
   "cell_type": "code",
   "execution_count": 64,
   "metadata": {},
   "outputs": [
    {
     "data": {
      "text/plain": [
       "MARRIED     412\n",
       "WIDOWER     172\n",
       "SINGLE        8\n",
       "DIVORCED      8\n",
       "Name: MARITAL_STATUS, dtype: int64"
      ]
     },
     "execution_count": 64,
     "metadata": {},
     "output_type": "execute_result"
    }
   ],
   "source": [
    "df['MARITAL_STATUS'].value_counts()"
   ]
  },
  {
   "cell_type": "markdown",
   "metadata": {},
   "source": [
    "### 5.8 What are the different values in URBANITY?"
   ]
  },
  {
   "cell_type": "code",
   "execution_count": 66,
   "metadata": {},
   "outputs": [
    {
     "data": {
      "text/plain": [
       "Rural    600\n",
       "Name: URBANITY, dtype: int64"
      ]
     },
     "execution_count": 66,
     "metadata": {},
     "output_type": "execute_result"
    }
   ],
   "source": [
    "df['URBANITY'].value_counts()"
   ]
  },
  {
   "cell_type": "markdown",
   "metadata": {},
   "source": [
    "Rural is the only type of urbanity, so it makes sense now that the occupations are connected to agricultural areas and areas with forestry in the provinces of Cambodia."
   ]
  },
  {
   "cell_type": "markdown",
   "metadata": {},
   "source": [
    "### 5.9 What are the different CREDIT_BUREAU values?"
   ]
  },
  {
   "cell_type": "code",
   "execution_count": 69,
   "metadata": {},
   "outputs": [
    {
     "data": {
      "text/plain": [
       "D    152\n",
       "B    100\n",
       "A     96\n",
       "C     92\n",
       "Name: CREDIT_BUREAU, dtype: int64"
      ]
     },
     "execution_count": 69,
     "metadata": {},
     "output_type": "execute_result"
    }
   ],
   "source": [
    "df['CREDIT_BUREAU'].value_counts()"
   ]
  },
  {
   "cell_type": "markdown",
   "metadata": {},
   "source": [
    "The CREDIT_BUREAU column likely contains information on an individual's credit score from a credit bureau. This information could be used to determine an individual's creditworthiness or to assess the risk of lending money to an individual.\n",
    "\n",
    "For the CREDIT_BUREAU column, A is the highest credit score, B is the second highest, C is the third highest, and D is the lowest. "
   ]
  },
  {
   "cell_type": "markdown",
   "metadata": {},
   "source": [
    "### 5.10 What are the different INCOME_TIER values?"
   ]
  },
  {
   "cell_type": "code",
   "execution_count": 70,
   "metadata": {},
   "outputs": [
    {
     "data": {
      "text/plain": [
       "3.0    282\n",
       "2.0    206\n",
       "4.0     68\n",
       "5.0     24\n",
       "1.0     12\n",
       "Name: INCOME_TIER, dtype: int64"
      ]
     },
     "execution_count": 70,
     "metadata": {},
     "output_type": "execute_result"
    }
   ],
   "source": [
    "df['INCOME_TIER'].value_counts()"
   ]
  },
  {
   "cell_type": "markdown",
   "metadata": {},
   "source": [
    "For the INCOME_TIER column, 1 is the lowest income, 2 is the second lowest, 3 is the third lowest, 4 is the fourth lowest, and 5 is the highest income.\n",
    "\n",
    "There is a moderate positive correlation between the CREDIT_BUREAU and INCOME_TIER columns. This means that, generally, individuals who have a higher credit score from a credit bureau also tend to have a higher income."
   ]
  },
  {
   "cell_type": "markdown",
   "metadata": {},
   "source": [
    "# CONCLUSION\n",
    "\n",
    "The Customer_ID, Occupation, Province, Gender, MARITAL_STATUS, URBANITY, CREDIT_BUREAU, and INCOME_TIER columns can be used to segment the dataset by different characteristics. For example, you could look at the average credit score from a credit bureau for individuals in different occupations, provinces, genders, etc. But in the case of the ABC Telcom Customers dataset, the Occupation column is the most useful for segmentation because it has the most unique values.\n",
    "\n",
    "There is a moderate positive correlation between the INCOME_TIER and CREDIT_BUREAU columns. This means that, generally, individuals who have a higher income also tend to have a higher credit score from a credit bureau. \n",
    "\n"
   ]
  }
 ],
 "metadata": {
  "kernelspec": {
   "display_name": "Python 3.10.7 64-bit",
   "language": "python",
   "name": "python3"
  },
  "language_info": {
   "codemirror_mode": {
    "name": "ipython",
    "version": 3
   },
   "file_extension": ".py",
   "mimetype": "text/x-python",
   "name": "python",
   "nbconvert_exporter": "python",
   "pygments_lexer": "ipython3",
   "version": "3.10.7"
  },
  "orig_nbformat": 4,
  "vscode": {
   "interpreter": {
    "hash": "eb4a0ac80907d7f44e1a5e88d3d3381b33e3dbedd3a24d113e876f30a0c46bee"
   }
  }
 },
 "nbformat": 4,
 "nbformat_minor": 2
}
