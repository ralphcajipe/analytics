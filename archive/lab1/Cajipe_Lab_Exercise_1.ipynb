{
  "cells": [
    {
      "cell_type": "markdown",
      "metadata": {
        "id": "KNcmTfAF9h4-"
      },
      "source": [
        "# Lab Exercise 1: Using Pandas 🐼"
      ]
    },
    {
      "cell_type": "markdown",
      "metadata": {
        "id": "ZUjOtB2X7gx9"
      },
      "source": [
        "1. Import the module pandas"
      ]
    },
    {
      "cell_type": "code",
      "execution_count": 1,
      "metadata": {
        "id": "Vkbkt_yc7Qzy"
      },
      "outputs": [],
      "source": [
        "# Importing the pandas library and giving it the alias pd.\n",
        "import pandas as pd"
      ]
    },
    {
      "cell_type": "markdown",
      "metadata": {
        "id": "Ht2VBReq7nSp"
      },
      "source": [
        "2. Declare the data set. Either user-defined or from reading csv file."
      ]
    },
    {
      "cell_type": "code",
      "execution_count": 2,
      "metadata": {
        "id": "4B5OnJMr7yE8"
      },
      "outputs": [],
      "source": [
        "# For two-dimensional data\n",
        "my_dataset = {\n",
        "    'cars':[\"Toyota\", \"Mitsubishi\", \"Honda\"],\n",
        "    'ratings': [1, 3, 5,] \n",
        "}"
      ]
    },
    {
      "cell_type": "markdown",
      "metadata": {
        "id": "4MCaPpAV89Oe"
      },
      "source": [
        "3. Create the data frame\n"
      ]
    },
    {
      "cell_type": "code",
      "execution_count": 3,
      "metadata": {
        "colab": {
          "base_uri": "https://localhost:8080/"
        },
        "id": "Va7YBtV_9Gg2",
        "outputId": "7c512c31-ef49-4c6f-fcae-fcae00c4585c"
      },
      "outputs": [
        {
          "name": "stdout",
          "output_type": "stream",
          "text": [
            "         cars  ratings\n",
            "0      Toyota        1\n",
            "1  Mitsubishi        3\n",
            "2       Honda        5\n"
          ]
        }
      ],
      "source": [
        "# For two-dimensional data\n",
        "my_2d_data = pd.DataFrame(my_dataset)\n",
        "\n",
        "print(my_2d_data)"
      ]
    },
    {
      "cell_type": "code",
      "execution_count": 4,
      "metadata": {
        "id": "wM7AugAt9_Bd"
      },
      "outputs": [],
      "source": [
        "# Creating label index for the data. \n",
        "# This is changing the default index to a user-defined index.\n",
        "my_2d_data = pd.DataFrame(my_dataset, index = [\"a\", \"k\", \"i\"])"
      ]
    },
    {
      "cell_type": "code",
      "execution_count": 5,
      "metadata": {
        "id": "FnoCuUvzIzRo"
      },
      "outputs": [],
      "source": [
        "# For reading csv file \n",
        "# my_var = pd.read_csv('data.csv')"
      ]
    },
    {
      "cell_type": "markdown",
      "metadata": {
        "id": "HeqVtZIq-L8C"
      },
      "source": [
        "4. Print the dataset"
      ]
    },
    {
      "cell_type": "code",
      "execution_count": 6,
      "metadata": {
        "colab": {
          "base_uri": "https://localhost:8080/"
        },
        "id": "JeVZyy84-Onq",
        "outputId": "0127096e-627c-4feb-facb-42dffb9d5293"
      },
      "outputs": [
        {
          "name": "stdout",
          "output_type": "stream",
          "text": [
            "         cars  ratings\n",
            "a      Toyota        1\n",
            "k  Mitsubishi        3\n",
            "i       Honda        5\n"
          ]
        }
      ],
      "source": [
        "# For printing the first and last 5 records of the data\n",
        "print(my_2d_data)"
      ]
    },
    {
      "cell_type": "code",
      "execution_count": 7,
      "metadata": {
        "colab": {
          "base_uri": "https://localhost:8080/"
        },
        "id": "v8CjPCPi-YEp",
        "outputId": "caeac3b6-6da9-402f-fa60-7ed3b123c70b"
      },
      "outputs": [
        {
          "name": "stdout",
          "output_type": "stream",
          "text": [
            "         cars  ratings\n",
            "a      Toyota        1\n",
            "k  Mitsubishi        3\n",
            "i       Honda        5\n"
          ]
        }
      ],
      "source": [
        "# For printing all the records of the data in a string format\n",
        "print(my_2d_data.to_string()) "
      ]
    },
    {
      "cell_type": "code",
      "execution_count": 8,
      "metadata": {
        "id": "eN9DWPbH-jl5"
      },
      "outputs": [
        {
          "name": "stdout",
          "output_type": "stream",
          "text": [
            "     cars  ratings\n",
            "a  Toyota        1\n"
          ]
        }
      ],
      "source": [
        "# For printing the first value of the data\n",
        "print(my_2d_data.head(1))"
      ]
    },
    {
      "cell_type": "code",
      "execution_count": 9,
      "metadata": {
        "id": "kD8ajeuJ_WpI"
      },
      "outputs": [
        {
          "name": "stdout",
          "output_type": "stream",
          "text": [
            "cars       Toyota\n",
            "ratings         1\n",
            "Name: a, dtype: object\n"
          ]
        }
      ],
      "source": [
        "# For printing using label index \n",
        "print(my_2d_data.loc[\"a\"])\n"
      ]
    },
    {
      "cell_type": "code",
      "execution_count": 10,
      "metadata": {
        "id": "XwropjIC_bEv"
      },
      "outputs": [
        {
          "name": "stdout",
          "output_type": "stream",
          "text": [
            "cars       Toyota\n",
            "ratings         1\n",
            "Name: a, dtype: object\n"
          ]
        }
      ],
      "source": [
        "# For printing first row using loc attribute \n",
        "print(my_2d_data.loc[\"a\"])"
      ]
    },
    {
      "cell_type": "markdown",
      "metadata": {
        "id": "CxfRi1bs_n89"
      },
      "source": [
        "5. Verify and print the panda version\n"
      ]
    },
    {
      "cell_type": "code",
      "execution_count": 11,
      "metadata": {
        "colab": {
          "base_uri": "https://localhost:8080/"
        },
        "id": "7XJWggIz_pSX",
        "outputId": "27fb5bd2-11cd-45eb-b2ce-e5f0a371b7e5"
      },
      "outputs": [
        {
          "name": "stdout",
          "output_type": "stream",
          "text": [
            "1.4.4\n"
          ]
        }
      ],
      "source": [
        "print(pd.__version__)"
      ]
    },
    {
      "cell_type": "markdown",
      "metadata": {
        "id": "lNGUnIwM_vZN"
      },
      "source": [
        "6. Verify, print, and modify the maximum returned row\n"
      ]
    },
    {
      "cell_type": "code",
      "execution_count": 12,
      "metadata": {
        "colab": {
          "base_uri": "https://localhost:8080/"
        },
        "id": "Ro-RlZSq_wpt",
        "outputId": "774c2728-049d-4306-d381-a9813a16b205"
      },
      "outputs": [
        {
          "name": "stdout",
          "output_type": "stream",
          "text": [
            "60\n"
          ]
        }
      ],
      "source": [
        "print(pd.options.display.max_rows) "
      ]
    },
    {
      "cell_type": "code",
      "execution_count": 13,
      "metadata": {
        "id": "1RXXW_uo_zed"
      },
      "outputs": [],
      "source": [
        "pd.options.display.max_rows = 100"
      ]
    },
    {
      "cell_type": "code",
      "execution_count": 14,
      "metadata": {
        "colab": {
          "base_uri": "https://localhost:8080/"
        },
        "id": "28MEZ6JY_-Td",
        "outputId": "90e82dfd-9ceb-4db2-98c0-032bc326b54b"
      },
      "outputs": [
        {
          "name": "stdout",
          "output_type": "stream",
          "text": [
            "100\n"
          ]
        }
      ],
      "source": [
        "print(pd.options.display.max_rows) "
      ]
    },
    {
      "cell_type": "markdown",
      "metadata": {
        "id": "sWdUS07jADTI"
      },
      "source": [
        "7. Analyzing DataFrame\n"
      ]
    },
    {
      "cell_type": "code",
      "execution_count": 15,
      "metadata": {
        "colab": {
          "base_uri": "https://localhost:8080/"
        },
        "id": "8Jlufx6eAExU",
        "outputId": "bab87017-3229-4775-a909-c188c7484cba"
      },
      "outputs": [
        {
          "name": "stdout",
          "output_type": "stream",
          "text": [
            "         cars  ratings\n",
            "a      Toyota        1\n",
            "k  Mitsubishi        3\n",
            "i       Honda        5\n"
          ]
        }
      ],
      "source": [
        "# For displaying the top 5 rows of the data\n",
        "print(my_2d_data.head())\n"
      ]
    },
    {
      "cell_type": "code",
      "execution_count": 16,
      "metadata": {
        "colab": {
          "base_uri": "https://localhost:8080/"
        },
        "id": "wpdpOwZeC0Dc",
        "outputId": "24bde81f-697f-4f38-b49d-46c4a3283317"
      },
      "outputs": [
        {
          "name": "stdout",
          "output_type": "stream",
          "text": [
            "         cars  ratings\n",
            "a      Toyota        1\n",
            "k  Mitsubishi        3\n",
            "i       Honda        5\n"
          ]
        }
      ],
      "source": [
        "# For displaying the top specified number of rows of the data\n",
        "print(my_2d_data.head(10))\n"
      ]
    },
    {
      "cell_type": "code",
      "execution_count": 17,
      "metadata": {
        "colab": {
          "base_uri": "https://localhost:8080/"
        },
        "id": "BiiL_NUSC4e1",
        "outputId": "104b3909-6209-4da8-edb8-cb227ee3c74a"
      },
      "outputs": [
        {
          "name": "stdout",
          "output_type": "stream",
          "text": [
            "         cars  ratings\n",
            "a      Toyota        1\n",
            "k  Mitsubishi        3\n",
            "i       Honda        5\n"
          ]
        }
      ],
      "source": [
        "# For displaying the last 5 rows of the data\n",
        "print(my_2d_data.tail())"
      ]
    },
    {
      "cell_type": "code",
      "execution_count": 18,
      "metadata": {
        "colab": {
          "base_uri": "https://localhost:8080/"
        },
        "id": "X_aKE95FC8jD",
        "outputId": "f8da96ed-9407-4c08-ec54-54745e938617"
      },
      "outputs": [
        {
          "name": "stdout",
          "output_type": "stream",
          "text": [
            "         cars  ratings\n",
            "a      Toyota        1\n",
            "k  Mitsubishi        3\n",
            "i       Honda        5\n"
          ]
        }
      ],
      "source": [
        "# For displaying the last specified number of rows of the data\n",
        "print(my_2d_data.tail(10))"
      ]
    },
    {
      "cell_type": "code",
      "execution_count": 19,
      "metadata": {
        "colab": {
          "base_uri": "https://localhost:8080/"
        },
        "id": "kvpbhp0ADBL8",
        "outputId": "3733370b-82d7-43a8-f592-40f89ac51292"
      },
      "outputs": [
        {
          "name": "stdout",
          "output_type": "stream",
          "text": [
            "<class 'pandas.core.frame.DataFrame'>\n",
            "Index: 3 entries, a to i\n",
            "Data columns (total 2 columns):\n",
            " #   Column   Non-Null Count  Dtype \n",
            "---  ------   --------------  ----- \n",
            " 0   cars     3 non-null      object\n",
            " 1   ratings  3 non-null      int64 \n",
            "dtypes: int64(1), object(1)\n",
            "memory usage: 180.0+ bytes\n",
            "None\n"
          ]
        }
      ],
      "source": [
        "# For printing the info about the dataset \n",
        "print(my_2d_data.info()) \n"
      ]
    }
  ],
  "metadata": {
    "colab": {
      "provenance": []
    },
    "kernelspec": {
      "display_name": "Python 3.10.7 64-bit",
      "language": "python",
      "name": "python3"
    },
    "language_info": {
      "codemirror_mode": {
        "name": "ipython",
        "version": 3
      },
      "file_extension": ".py",
      "mimetype": "text/x-python",
      "name": "python",
      "nbconvert_exporter": "python",
      "pygments_lexer": "ipython3",
      "version": "3.10.7"
    },
    "vscode": {
      "interpreter": {
        "hash": "eb4a0ac80907d7f44e1a5e88d3d3381b33e3dbedd3a24d113e876f30a0c46bee"
      }
    }
  },
  "nbformat": 4,
  "nbformat_minor": 0
}
