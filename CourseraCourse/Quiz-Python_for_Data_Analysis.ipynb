{
 "cells": [
  {
   "cell_type": "code",
   "execution_count": 2,
   "metadata": {},
   "outputs": [],
   "source": [
    "import pandas as pd"
   ]
  },
  {
   "cell_type": "code",
   "execution_count": 3,
   "metadata": {},
   "outputs": [
    {
     "data": {
      "text/plain": [
       "0    Facebook\n",
       "1       Apple\n",
       "2      Nvidia\n",
       "dtype: object"
      ]
     },
     "execution_count": 3,
     "metadata": {},
     "output_type": "execute_result"
    }
   ],
   "source": [
    "# Question 1 What will this code generate?\n",
    "my_list = ['Facebook','Apple','Nvidia'] \n",
    "my_series = pd.Series(data = my_list) \n",
    "my_series"
   ]
  },
  {
   "cell_type": "code",
   "execution_count": 4,
   "metadata": {},
   "outputs": [
    {
     "data": {
      "text/plain": [
       "stock #1    Facebook\n",
       "stock #2       Apple\n",
       "stock #3      Nvidia\n",
       "dtype: object"
      ]
     },
     "execution_count": 4,
     "metadata": {},
     "output_type": "execute_result"
    }
   ],
   "source": [
    "# Question 2 What will this code generate?\n",
    "my_list = ['Facebook','Apple','Nvidia'] \n",
    "my_labels = ['stock #1', 'stock #2', 'stock #3']\n",
    "my_series = pd.Series(data = my_list, index = my_labels)\n",
    "my_series"
   ]
  },
  {
   "cell_type": "code",
   "execution_count": 5,
   "metadata": {},
   "outputs": [
    {
     "name": "stdout",
     "output_type": "stream",
     "text": [
      "{'Facebook': 3000, 'Apple': 400, 'Nvidia': 2200}\n"
     ]
    }
   ],
   "source": [
    "# Question 3 What will this code generate?\n",
    "stocks = {'Facebook': 3000, \n",
    "          'Apple'   : 400,\n",
    "          'Nvidia'  : 2200}\n",
    "print(stocks)"
   ]
  },
  {
   "cell_type": "code",
   "execution_count": 6,
   "metadata": {},
   "outputs": [
    {
     "data": {
      "text/plain": [
       "dtype('O')"
      ]
     },
     "execution_count": 6,
     "metadata": {},
     "output_type": "execute_result"
    }
   ],
   "source": [
    "# Question 4 What will this code generate?\n",
    "crypto_list = ['BTC','XRP','LTC', 'ADA', 'ETH'] \n",
    "crypto_series = pd.Series(data = crypto_list)\n",
    "crypto_series.dtype"
   ]
  },
  {
   "cell_type": "code",
   "execution_count": 7,
   "metadata": {},
   "outputs": [
    {
     "data": {
      "text/plain": [
       "498.0"
      ]
     },
     "execution_count": 7,
     "metadata": {},
     "output_type": "execute_result"
    }
   ],
   "source": [
    "# Question 5 What will this code generate?\n",
    "crypto_prices = pd.Series(data = [400, 500, 1500, 20, 70])\n",
    "crypto_prices.mean()"
   ]
  },
  {
   "cell_type": "code",
   "execution_count": null,
   "metadata": {},
   "outputs": [],
   "source": [
    "# Question 6 Is BTC_price considered a DataFrame?\n",
    "\n",
    "BTC_price = pd.read_csv('crypto.csv', squeeze = True)\n",
    "\n",
    "# True"
   ]
  },
  {
   "cell_type": "code",
   "execution_count": 9,
   "metadata": {},
   "outputs": [
    {
     "data": {
      "text/plain": [
       "0    100\n",
       "1    100\n",
       "2    300\n",
       "3     50\n",
       "4    100\n",
       "dtype: int64"
      ]
     },
     "execution_count": 9,
     "metadata": {},
     "output_type": "execute_result"
    }
   ],
   "source": [
    "# Question 7 What will this code generate?\n",
    "my_series = pd.Series(data = [-100, 100, -300, 50, 100])\n",
    "abs(my_series)"
   ]
  },
  {
   "cell_type": "code",
   "execution_count": null,
   "metadata": {},
   "outputs": [],
   "source": [
    "# Question 8 What will this code do?\n",
    "BTC_price_series.sort_values(ascending = False, inplace = True) \n",
    "BTC_price_series\n",
    "\n",
    "# Sort BTC_price_series in a descending order and force the change to take place in memory"
   ]
  },
  {
   "cell_type": "code",
   "execution_count": null,
   "metadata": {},
   "outputs": [],
   "source": [
    "# Question 9 Will this code generate the average of BTC_price_series?\n",
    "BTC_price_series.sum()/BTC_price_series.count()\n",
    "\n",
    "# True"
   ]
  },
  {
   "cell_type": "code",
   "execution_count": null,
   "metadata": {},
   "outputs": [],
   "source": [
    "# Question 10 What will this code generate?\n",
    "399 in BTC_price.values\n",
    "\n",
    "# Search for 399 in BTC_price values and generate True or False accordingly "
   ]
  }
 ],
 "metadata": {
  "kernelspec": {
   "display_name": "Python 3.10.7 64-bit",
   "language": "python",
   "name": "python3"
  },
  "language_info": {
   "codemirror_mode": {
    "name": "ipython",
    "version": 3
   },
   "file_extension": ".py",
   "mimetype": "text/x-python",
   "name": "python",
   "nbconvert_exporter": "python",
   "pygments_lexer": "ipython3",
   "version": "3.10.7"
  },
  "orig_nbformat": 4,
  "vscode": {
   "interpreter": {
    "hash": "eb4a0ac80907d7f44e1a5e88d3d3381b33e3dbedd3a24d113e876f30a0c46bee"
   }
  }
 },
 "nbformat": 4,
 "nbformat_minor": 2
}
